{
 "cells": [
  {
   "cell_type": "markdown",
   "metadata": {},
   "source": [
    "# Teste de Objetos e Estrutura de Dados"
   ]
  },
  {
   "cell_type": "markdown",
   "metadata": {
    "collapsed": true
   },
   "source": [
    "## Teste seu conhecimento.\n",
    "\n",
    "** Responda as seguintes questões **"
   ]
  },
  {
   "cell_type": "markdown",
   "metadata": {
    "collapsed": true
   },
   "source": [
    "Escreva uma breve descrição de todos os seguintes tipos de objetos e estruturas de dados sobre os quais aprendemos:"
   ]
  },
  {
   "cell_type": "markdown",
   "metadata": {},
   "source": [
    "Números: São objetos que correspondem a valores quantitativos, podendo ser representados como inteiros ou flutuantes, absolutos, reais ou irracionais. Exemplo: a = 9, 'a' recebe o valor quantitativo 9.\n",
    "\n",
    "Strings: São objetos que correspondem a texto, precisam estar entre \" \" para se consolidar como strings, para que outros objetos possam ser chamados, e/ou convertidos em string. Exemplo: a = \"9\", 'a' recebe o valor textual de 9.\n",
    "\n",
    "Listas: São objetos que agrupam outros objetos, sequencias, como os numeros e strings, ficam expressas entre [], são mutáveis, no sentido e que seu conteúdo pode ser alterado, adicionado ou subtraído. Exemplo, a = [1,'texto','456'5000], 'a' recebe a lista cujos valores são: 1, 'texto', '456', 5000, ordenados de modo que, 0 = 1, 1 = 'texto', 2 ='456' e 3 = 5000.\n",
    "\n",
    "Tuplas: Como Listas, são objetos que agrupam outros objetos, sequencias, sendo que a principal diferença entre Tuplas e Listas, é a imutabilidade das Tuplas, não é possível alterar seu conteúdo, são representadas entre (). Exemplo, a = (1,'texto,'456'5000)\n",
    "'a' recebe a lista cujos valores são: 1, 'texto', '456', 5000, ordenados de modo que, 0 = 1, 1 = 'texto', 2 ='456' e 3 = 5000.\n",
    "\n",
    "Dicionários: São objetos que atribuem um valor, numérico ou textual, a um elemento, mapeamento, diferente das sequencias ps mapeamentos não possuem ordem, representados entre {}. Exemplo, a = {'a1': 'A', 'a2':[1,2,3,4,5], 'a3': 456, 'a4':(1,2,3,4,5)}\n",
    "'a'recebe o dicionário, em que a1 \"significa\" 'A', a2 \"significa\" a lista [1,2,3,4,5], a3 \"significa\" 456 e a4 \"significa a tupla (1,2,3,4,5)."
   ]
  },
  {
   "cell_type": "markdown",
   "metadata": {},
   "source": [
    "## Números\n",
    "\n",
    "Escreva uma equação que use multiplicação, divisão, expoente, adição e subtração igual a 100,25.\n",
    "\n",
    "Dica: isso é apenas para testar sua memória dos comandos aritméticos básicos, trabalhar para trás a partir de 100.25"
   ]
  },
  {
   "cell_type": "code",
   "execution_count": 10,
   "metadata": {},
   "outputs": [
    {
     "name": "stdout",
     "output_type": "stream",
     "text": [
      "7662.375\n"
     ]
    }
   ],
   "source": [
    "t = 100.25\n",
    "x = 5\n",
    "y = 6\n",
    "z = (((x**y)-200)-t)/2\n",
    "t = (x**y) + (z*2) - 200\n",
    "print(z)"
   ]
  },
  {
   "cell_type": "markdown",
   "metadata": {},
   "source": [
    "Responda estas 3 perguntas sem digitar o código. Em seguida, digite o código para verificar sua resposta.\n",
    "\n",
    "     Qual é o valor da expressão 4 * (6 + 5)\n",
    "     r =44    \n",
    "     Qual é o valor da expressão 4 * 6 + 5?\n",
    "     r = 29\n",
    "     Qual é o valor da expressão 4 + 6 * 5?\n",
    "     r = 34"
   ]
  },
  {
   "cell_type": "code",
   "execution_count": 11,
   "metadata": {},
   "outputs": [
    {
     "name": "stdout",
     "output_type": "stream",
     "text": [
      "44 29 34\n"
     ]
    }
   ],
   "source": [
    "a = 4 * (6 + 5)\n",
    "b = 4 * 6 + 5\n",
    "c = 4 + 6 * 5\n",
    "print(a , b, c)"
   ]
  },
  {
   "cell_type": "markdown",
   "metadata": {},
   "source": [
    "Qual é o * tipo * do resultado da expressão 3 + 1.5 + 4?"
   ]
  },
  {
   "cell_type": "markdown",
   "metadata": {},
   "source": [
    "float / flutuante"
   ]
  },
  {
   "cell_type": "markdown",
   "metadata": {},
   "source": [
    "O que você usaria para encontrar a raiz quadrada de um número, bem como seu quadrado?"
   ]
  },
  {
   "cell_type": "code",
   "execution_count": null,
   "metadata": {
    "collapsed": true
   },
   "outputs": [],
   "source": [
    "% e **, raiz e potência"
   ]
  },
  {
   "cell_type": "markdown",
   "metadata": {},
   "source": [
    "## Strings"
   ]
  },
  {
   "cell_type": "markdown",
   "metadata": {},
   "source": [
    "Dada a string 'hello', dê um comando de índice que retorna 'e'. Use o código abaixo:"
   ]
  },
  {
   "cell_type": "code",
   "execution_count": 12,
   "metadata": {},
   "outputs": [
    {
     "name": "stdout",
     "output_type": "stream",
     "text": [
      "e\n"
     ]
    }
   ],
   "source": [
    "s = 'hello'\n",
    "\n",
    "\n",
    "# Código aqui\n",
    "print(s[1])"
   ]
  },
  {
   "cell_type": "markdown",
   "metadata": {},
   "source": [
    "Inverta a string 'hello' usando indexação:"
   ]
  },
  {
   "cell_type": "code",
   "execution_count": 13,
   "metadata": {},
   "outputs": [
    {
     "name": "stdout",
     "output_type": "stream",
     "text": [
      "olleh\n"
     ]
    }
   ],
   "source": [
    "s ='hello'\n",
    "\n",
    "\n",
    "# Código aqui\n",
    "print(s[::-1])"
   ]
  },
  {
   "cell_type": "markdown",
   "metadata": {},
   "source": [
    "Dado o exemplo de linha, dê dois métodos para produzir a letra 'o' usando a indexação."
   ]
  },
  {
   "cell_type": "code",
   "execution_count": 15,
   "metadata": {},
   "outputs": [
    {
     "name": "stdout",
     "output_type": "stream",
     "text": [
      "o o\n"
     ]
    }
   ],
   "source": [
    "s ='hello'\n",
    "\n",
    "\n",
    "# Código aqui\n",
    "print((s[::-1][0]),(s[4]))"
   ]
  },
  {
   "cell_type": "markdown",
   "metadata": {},
   "source": [
    "## Listas"
   ]
  },
  {
   "cell_type": "markdown",
   "metadata": {},
   "source": [
    "Crie esta lista [0,0,0] duas formas diferentes."
   ]
  },
  {
   "cell_type": "code",
   "execution_count": 17,
   "metadata": {},
   "outputs": [
    {
     "name": "stdout",
     "output_type": "stream",
     "text": [
      "[0, 0, 0] [0, 0, 0]\n"
     ]
    }
   ],
   "source": [
    "b = [0,0,0]\n",
    "a = [0]*3\n",
    "print(a,b)"
   ]
  },
  {
   "cell_type": "markdown",
   "metadata": {},
   "source": [
    "Altere o 'hello' da lista para 'goodbye'"
   ]
  },
  {
   "cell_type": "code",
   "execution_count": 2,
   "metadata": {},
   "outputs": [
    {
     "name": "stdout",
     "output_type": "stream",
     "text": [
      "[1, 2, [3, 4, 'goodbye']]\n"
     ]
    }
   ],
   "source": [
    "l = [1,2,[3,4,'hello']]\n",
    "l = [1,2,[3,4,'goodbye']]\n",
    "l[2][2] = 'goodbye'\n",
    "print(l)"
   ]
  },
  {
   "cell_type": "markdown",
   "metadata": {},
   "source": [
    "Ordene a lista:"
   ]
  },
  {
   "cell_type": "code",
   "execution_count": 26,
   "metadata": {},
   "outputs": [
    {
     "name": "stdout",
     "output_type": "stream",
     "text": [
      "[1, 3, 4, 5, 6]\n"
     ]
    }
   ],
   "source": [
    "l = [5,3,4,6,1]\n",
    "l.sort()\n",
    "print(l)"
   ]
  },
  {
   "cell_type": "markdown",
   "metadata": {},
   "source": [
    "## Dicionários"
   ]
  },
  {
   "cell_type": "markdown",
   "metadata": {},
   "source": [
    "Usando chaves e indexação, pegue o 'hello' dos seguintes dicionários:"
   ]
  },
  {
   "cell_type": "code",
   "execution_count": 53,
   "metadata": {},
   "outputs": [
    {
     "data": {
      "text/plain": [
       "'hello'"
      ]
     },
     "execution_count": 53,
     "metadata": {},
     "output_type": "execute_result"
    }
   ],
   "source": [
    "d = {'simple_key':'hello'}\n",
    "d['simple_key']"
   ]
  },
  {
   "cell_type": "code",
   "execution_count": 37,
   "metadata": {},
   "outputs": [
    {
     "data": {
      "text/plain": [
       "'hello'"
      ]
     },
     "execution_count": 37,
     "metadata": {},
     "output_type": "execute_result"
    }
   ],
   "source": [
    "d = {'k1':{'k2':'hello'}}\n",
    "d['k1']['k2']\n"
   ]
  },
  {
   "cell_type": "code",
   "execution_count": 3,
   "metadata": {},
   "outputs": [
    {
     "data": {
      "text/plain": [
       "'hello'"
      ]
     },
     "execution_count": 3,
     "metadata": {},
     "output_type": "execute_result"
    }
   ],
   "source": [
    "d = {'k1':[{'nest_key':['this is deep',['hello']]}]}\n",
    "d['k1'][0]['nest_key'][1][0]"
   ]
  },
  {
   "cell_type": "code",
   "execution_count": 4,
   "metadata": {},
   "outputs": [
    {
     "data": {
      "text/plain": [
       "'hello'"
      ]
     },
     "execution_count": 4,
     "metadata": {},
     "output_type": "execute_result"
    }
   ],
   "source": [
    "# Esse é chato...\n",
    "d = {'k1':[1,2,{'k2':['this is tricky',{'tough':[1,2,['hello']]}]}]}\n",
    "d['k1'][2]['k2'][1]['tough'][2][0]"
   ]
  },
  {
   "cell_type": "markdown",
   "metadata": {},
   "source": [
    "Você pode classificar um dicionário? Por que ou por que não?"
   ]
  },
  {
   "cell_type": "markdown",
   "metadata": {},
   "source": [
    "Não, porque o dicionário é um mapeamento não uma sequência.\n"
   ]
  },
  {
   "cell_type": "markdown",
   "metadata": {},
   "source": [
    "## Tuplas"
   ]
  },
  {
   "cell_type": "markdown",
   "metadata": {},
   "source": [
    "Qual é a principal diferença entre as tuplas e as listas?"
   ]
  },
  {
   "cell_type": "markdown",
   "metadata": {},
   "source": [
    "Tuplas são imutáveis"
   ]
  },
  {
   "cell_type": "markdown",
   "metadata": {},
   "source": [
    "Como você cria uma tupla?"
   ]
  },
  {
   "cell_type": "markdown",
   "metadata": {},
   "source": [
    "Usa-se () para representar uma tupla. Exemplo: a = (1,2,3)"
   ]
  },
  {
   "cell_type": "markdown",
   "metadata": {},
   "source": [
    "## Conjuntos "
   ]
  },
  {
   "cell_type": "markdown",
   "metadata": {},
   "source": [
    "O que é único em um conjunto?"
   ]
  },
  {
   "cell_type": "markdown",
   "metadata": {},
   "source": [
    "As entradas, conjuntos possuem entradas únicas, ou seja, seus valores/elementos não repetem."
   ]
  },
  {
   "cell_type": "markdown",
   "metadata": {},
   "source": [
    "Use um conjunto para encontrar os valores exclusivos da lista abaixo:"
   ]
  },
  {
   "cell_type": "code",
   "execution_count": 55,
   "metadata": {},
   "outputs": [
    {
     "data": {
      "text/plain": [
       "{1, 2, 3, 4, 11, 22, 33}"
      ]
     },
     "execution_count": 55,
     "metadata": {},
     "output_type": "execute_result"
    }
   ],
   "source": [
    "l = [1,2,2,33,4,4,11,22,3,3,2]\n",
    "set(l)"
   ]
  },
  {
   "cell_type": "markdown",
   "metadata": {},
   "source": [
    "## Booleans"
   ]
  },
  {
   "cell_type": "markdown",
   "metadata": {},
   "source": [
    "Qual será o Booleano resultante dos seguintes códigos?"
   ]
  },
  {
   "cell_type": "code",
   "execution_count": 59,
   "metadata": {},
   "outputs": [
    {
     "data": {
      "text/plain": [
       "False"
      ]
     },
     "execution_count": 59,
     "metadata": {},
     "output_type": "execute_result"
    }
   ],
   "source": [
    "# Responda antes de executar a célula\n",
    "2 > 3\n",
    "#Falso"
   ]
  },
  {
   "cell_type": "code",
   "execution_count": 60,
   "metadata": {},
   "outputs": [
    {
     "data": {
      "text/plain": [
       "False"
      ]
     },
     "execution_count": 60,
     "metadata": {},
     "output_type": "execute_result"
    }
   ],
   "source": [
    "# Responda antes de executar a célula\n",
    "3 <= 2\n",
    "#Falso"
   ]
  },
  {
   "cell_type": "code",
   "execution_count": 61,
   "metadata": {},
   "outputs": [
    {
     "data": {
      "text/plain": [
       "False"
      ]
     },
     "execution_count": 61,
     "metadata": {},
     "output_type": "execute_result"
    }
   ],
   "source": [
    "# Responda antes de executar a célula\n",
    "3 == 2.0\n",
    "#Falso"
   ]
  },
  {
   "cell_type": "code",
   "execution_count": 58,
   "metadata": {},
   "outputs": [
    {
     "data": {
      "text/plain": [
       "True"
      ]
     },
     "execution_count": 58,
     "metadata": {},
     "output_type": "execute_result"
    }
   ],
   "source": [
    "# Responda antes de executar a célula\n",
    "3.0 == 3\n",
    "#Falso"
   ]
  },
  {
   "cell_type": "code",
   "execution_count": 62,
   "metadata": {},
   "outputs": [
    {
     "data": {
      "text/plain": [
       "False"
      ]
     },
     "execution_count": 62,
     "metadata": {},
     "output_type": "execute_result"
    }
   ],
   "source": [
    "# Responda antes de executar a célula\n",
    "4**0.5 != 2\n",
    "#Falso"
   ]
  },
  {
   "cell_type": "markdown",
   "metadata": {},
   "source": [
    "Pergunta final: qual é a saída booleana do bloco de código abaixo?"
   ]
  },
  {
   "cell_type": "code",
   "execution_count": 63,
   "metadata": {},
   "outputs": [
    {
     "data": {
      "text/plain": [
       "False"
      ]
     },
     "execution_count": 63,
     "metadata": {},
     "output_type": "execute_result"
    }
   ],
   "source": [
    "# Duas listas aninhadas\n",
    "l_one = [1,2,[3,4]]\n",
    "l_two = [1,2,{'k1':4}]\n",
    "\n",
    "# Verdadeiro ou falso?\n",
    "l_one[2][0] >= l_two[2]['k1']\n",
    "#Falso"
   ]
  },
  {
   "cell_type": "markdown",
   "metadata": {},
   "source": [
    "## Ótimo trabalho em sua primeira avaliação!"
   ]
  }
 ],
 "metadata": {
  "anaconda-cloud": {},
  "kernelspec": {
   "display_name": "Python 3",
   "language": "python",
   "name": "python3"
  },
  "language_info": {
   "codemirror_mode": {
    "name": "ipython",
    "version": 3
   },
   "file_extension": ".py",
   "mimetype": "text/x-python",
   "name": "python",
   "nbconvert_exporter": "python",
   "pygments_lexer": "ipython3",
   "version": "3.6.4"
  }
 },
 "nbformat": 4,
 "nbformat_minor": 1
}
