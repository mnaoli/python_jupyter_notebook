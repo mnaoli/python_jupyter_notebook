{
 "cells": [
  {
   "cell_type": "markdown",
   "metadata": {},
   "source": [
    "# Funções e métodos - Trabalho de casa\n",
    "\n",
    "Responda as seguintes perguntas:\n",
    "____\n",
    "**Escreva uma função que calcula o volume de uma esfera dado seu raio.**"
   ]
  },
  {
   "cell_type": "code",
   "execution_count": 13,
   "metadata": {},
   "outputs": [
    {
     "data": {
      "text/plain": [
       "33493.333333333336"
      ]
     },
     "execution_count": 13,
     "metadata": {},
     "output_type": "execute_result"
    }
   ],
   "source": [
    "def vol(rad):\n",
    "    return (3.14*4*(rad**3))/3\n",
    "vol(20)"
   ]
  },
  {
   "cell_type": "markdown",
   "metadata": {},
   "source": [
    "**Escreva uma função que verifica se um número está em um determinado intervalo (inclusive o máximo e mínimo)**\n"
   ]
  },
  {
   "cell_type": "code",
   "execution_count": 28,
   "metadata": {},
   "outputs": [
    {
     "name": "stdout",
     "output_type": "stream",
     "text": [
      "20 not in range of  1 and  10\n"
     ]
    }
   ],
   "source": [
    "def ran_check(num,low,high):\n",
    "    if num in range(low, high):\n",
    "        print(num, \"is in range of \", low, \"and \", high)\n",
    "    else:\n",
    "        print(num,\"not in range of \", low, \"and \", high)\n",
    "ran_check(20,1,10)"
   ]
  },
  {
   "cell_type": "markdown",
   "metadata": {},
   "source": [
    "Se você quisesse apenas retornar um booleano:"
   ]
  },
  {
   "cell_type": "code",
   "execution_count": 33,
   "metadata": {},
   "outputs": [
    {
     "data": {
      "text/plain": [
       "True"
      ]
     },
     "execution_count": 33,
     "metadata": {},
     "output_type": "execute_result"
    }
   ],
   "source": [
    "def ran_bool(num,low,high):\n",
    "    if num in range(low, high):\n",
    "        return True\n",
    "    else:\n",
    "        return False\n",
    "ran_bool(2,1,10)"
   ]
  },
  {
   "cell_type": "code",
   "execution_count": 52,
   "metadata": {},
   "outputs": [
    {
     "data": {
      "text/plain": [
       "True"
      ]
     },
     "execution_count": 52,
     "metadata": {},
     "output_type": "execute_result"
    }
   ],
   "source": [
    "ran_bool(3,1,10)"
   ]
  },
  {
   "cell_type": "markdown",
   "metadata": {},
   "source": [
    "** Escreva uma função Python que aceita uma string e calcule o número de maiúsculas e minúsculas. **\n",
    "\n",
    "     Exemplo de Cadeia: 'Olá Sr. Rogers, como você está bem, terça-feira?'\n",
    "     Saída esperada:\n",
    "     Número de caracteres maiúsculas: 4\n",
    "     Número de caracteres minúsculos: 33\n",
    "\n",
    "Se você se sentir ambicioso, explore o módulo de Coleções para resolver esse problema!"
   ]
  },
  {
   "cell_type": "code",
   "execution_count": 125,
   "metadata": {},
   "outputs": [
    {
     "name": "stdout",
     "output_type": "stream",
     "text": [
      "Num de chars total = 31 \n",
      "Num de chars upper = 9 \n",
      "Num de chars lower = 22\n"
     ]
    }
   ],
   "source": [
    "def up_low(s):\n",
    "    c = 0\n",
    "    for i in s:\n",
    "        if i.isupper():\n",
    "            c = c + 1\n",
    "    print(\"Num de chars total =\", len(s), \"\\nNum de chars upper =\", c, \"\\nNum de chars lower =\" , (len(s)-c))\n",
    "up_low(\"Amiga parceira é amiga SOLTEIRA\")                    "
   ]
  },
  {
   "cell_type": "markdown",
   "metadata": {},
   "source": [
    "** Escreva uma função Python que recebe uma lista e retorna uma nova lista com elementos exclusivos da primeira lista. **\n",
    "\n",
    "     Lista de Amostras: [1,1,1,1,2,2,3,3,3,3,4,5]\n",
    "     Lista única: [1, 2, 3, 4, 5]"
   ]
  },
  {
   "cell_type": "code",
   "execution_count": 58,
   "metadata": {},
   "outputs": [],
   "source": [
    "def unique_list(l):\n",
    "    pass"
   ]
  },
  {
   "cell_type": "code",
   "execution_count": 47,
   "metadata": {},
   "outputs": [],
   "source": [
    "unique_list([1,1,1,1,2,2,3,3,3,3,4,5])"
   ]
  },
  {
   "cell_type": "markdown",
   "metadata": {},
   "source": [
    "** Escreva uma função Python para multiplicar todos os números em uma lista. **\n",
    "\n",
    "     Lista de exemplos: [1, 2, 3, -4]\n",
    "     Saída esperada: -24"
   ]
  },
  {
   "cell_type": "code",
   "execution_count": 48,
   "metadata": {},
   "outputs": [],
   "source": [
    "def multiply(numbers):  \n",
    "    pass"
   ]
  },
  {
   "cell_type": "code",
   "execution_count": 18,
   "metadata": {},
   "outputs": [
    {
     "data": {
      "text/plain": [
       "-24"
      ]
     },
     "execution_count": 18,
     "metadata": {},
     "output_type": "execute_result"
    }
   ],
   "source": [
    "multiply([1,2,3,-4])"
   ]
  },
  {
   "cell_type": "markdown",
   "metadata": {},
   "source": [
    "** Escreva uma função Python que verifica se uma string passada é palindrome ou não. **\n",
    "\n",
    "Nota: Um palíndromo é palavra, frase ou seqüência que lê o mesmo para trás."
   ]
  },
  {
   "cell_type": "code",
   "execution_count": 19,
   "metadata": {
    "collapsed": true
   },
   "outputs": [],
   "source": [
    "def palindrome(s):\n",
    "    pass"
   ]
  },
  {
   "cell_type": "code",
   "execution_count": 20,
   "metadata": {},
   "outputs": [
    {
     "data": {
      "text/plain": [
       "True"
      ]
     },
     "execution_count": 20,
     "metadata": {},
     "output_type": "execute_result"
    }
   ],
   "source": [
    "palindrome('helleh')"
   ]
  },
  {
   "cell_type": "markdown",
   "metadata": {},
   "source": [
    "**Difícil**:\n",
    "\n",
    "Escreva uma função Python para verificar se uma string é um pangrama ou não.\n",
    "\n",
    "     Nota: Pangramas são palavras ou frases contendo cada letra do alfabeto pelo menos uma vez.\n",
    "\n",
    "Dica: veja o módulo de strings"
   ]
  },
  {
   "cell_type": "code",
   "execution_count": 21,
   "metadata": {
    "collapsed": true
   },
   "outputs": [],
   "source": [
    "import string\n",
    "\n",
    "def ispangram(str1, alphabet=string.ascii_lowercase):  \n",
    "    pass"
   ]
  },
  {
   "cell_type": "code",
   "execution_count": 22,
   "metadata": {},
   "outputs": [
    {
     "data": {
      "text/plain": [
       "True"
      ]
     },
     "execution_count": 22,
     "metadata": {},
     "output_type": "execute_result"
    }
   ],
   "source": [
    "ispangram(\"The quick brown fox jumps over the lazy dog\")"
   ]
  },
  {
   "cell_type": "code",
   "execution_count": 23,
   "metadata": {},
   "outputs": [
    {
     "data": {
      "text/plain": [
       "'abcdefghijklmnopqrstuvwxyz'"
      ]
     },
     "execution_count": 23,
     "metadata": {},
     "output_type": "execute_result"
    }
   ],
   "source": [
    "string.ascii_lowercase"
   ]
  }
 ],
 "metadata": {
  "kernelspec": {
   "display_name": "Python 3",
   "language": "python",
   "name": "python3"
  },
  "language_info": {
   "codemirror_mode": {
    "name": "ipython",
    "version": 3
   },
   "file_extension": ".py",
   "mimetype": "text/x-python",
   "name": "python",
   "nbconvert_exporter": "python",
   "pygments_lexer": "ipython3",
   "version": "3.6.4"
  }
 },
 "nbformat": 4,
 "nbformat_minor": 1
}
